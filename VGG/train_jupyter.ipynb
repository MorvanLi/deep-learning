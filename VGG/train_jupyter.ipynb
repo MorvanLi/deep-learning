{
 "cells": [
  {
   "cell_type": "code",
   "execution_count": 21,
   "metadata": {
    "pycharm": {
     "name": "#%%\n"
    }
   },
   "outputs": [
    {
     "name": "stdout",
     "output_type": "stream",
     "text": [
      "cuda:0\n"
     ]
    }
   ],
   "source": [
    "import torch.nn as nn\n",
    "from torchvision import transforms, datasets\n",
    "import json\n",
    "import os\n",
    "import torch.optim as optim\n",
    "from model import vgg\n",
    "import torch\n",
    "import tqdm\n",
    "import time\n",
    "import math\n",
    "device = torch.device(\"cuda:0\" if torch.cuda.is_available() else \"cpu\")\n",
    "print(device)\n",
    "\n"
   ]
  },
  {
   "cell_type": "code",
   "execution_count": 18,
   "metadata": {},
   "outputs": [],
   "source": [
    "data_transform = {\n",
    "    \"train\": transforms.Compose([transforms.RandomResizedCrop(224),\n",
    "                                 transforms.RandomHorizontalFlip(),\n",
    "                                 transforms.ToTensor(),\n",
    "                                 transforms.Normalize((0.5, 0.5, 0.5), (0.5, 0.5, 0.5))]),\n",
    "    \"val\": transforms.Compose([transforms.Resize((224, 224)),\n",
    "                               transforms.ToTensor(),\n",
    "                               transforms.Normalize((0.5, 0.5, 0.5), (0.5, 0.5, 0.5))])}\n",
    "\n",
    "\n",
    "data_root = os.path.abspath(os.path.join(os.getcwd(), \"../\"))  # get data root path\n",
    "image_path = data_root + \"/flower_data/\"  # flower data set path\n",
    "\n",
    "train_dataset = datasets.ImageFolder(root=image_path+\"train\",\n",
    "                                     transform=data_transform[\"train\"])\n",
    "train_num = len(train_dataset)\n",
    "\n",
    "# {'daisy':0, 'dandelion':1, 'roses':2, 'sunflower':3, 'tulips':4}\n",
    "flower_list = train_dataset.class_to_idx\n",
    "cla_dict = dict((val, key) for key, val in flower_list.items())\n",
    "# write dict into json file\n",
    "json_str = json.dumps(cla_dict, indent=4)\n",
    "with open('class_indices.json', 'w') as json_file:\n",
    "    json_file.write(json_str)\n",
    "\n",
    "batch_size = 32\n",
    "train_loader = torch.utils.data.DataLoader(train_dataset,\n",
    "                                           batch_size=batch_size, shuffle=True,\n",
    "                                           num_workers=4)\n",
    "\n",
    "validate_dataset = datasets.ImageFolder(root=image_path + \"val\",\n",
    "                                        transform=data_transform[\"val\"])\n",
    "val_num = len(validate_dataset)\n",
    "validate_loader = torch.utils.data.DataLoader(validate_dataset,\n",
    "                                              batch_size=batch_size, shuffle=False,\n",
    "                                              num_workers=4)\n",
    "\n",
    "# test_data_iter = iter(validate_loader)\n",
    "# test_image, test_label = test_data_iter.next()\n"
   ]
  },
  {
   "cell_type": "code",
   "execution_count": 23,
   "metadata": {
    "pycharm": {
     "name": "#%%\n"
    }
   },
   "outputs": [],
   "source": [
    "model_name = \"vgg16\"\n",
    "net = vgg(model_name=model_name, num_classes=5, init_weights=True)\n",
    "net.to(device)\n",
    "loss_function = nn.CrossEntropyLoss()\n",
    "optimizer = optim.Adam(net.parameters(), lr=0.0001)\n",
    "\n",
    "best_acc = 0.0\n",
    "save_path = './{}Net.pth'.format(model_name)\n",
    "Loss = []\n",
    "Acc = []"
   ]
  },
  {
   "cell_type": "code",
   "execution_count": 24,
   "metadata": {},
   "outputs": [
    {
     "name": "stdout",
     "output_type": "stream",
     "text": [
      "train loss: 100%[**************************************************->]1.521\n",
      "epoch: 1 train_loss: 1.607 test_accuracy: 0.376\n",
      "train loss: 100%[**************************************************->]0.991\n",
      "epoch: 2 train_loss: 1.365 test_accuracy: 0.42\n",
      "train loss: 100%[**************************************************->]1.028\n",
      "epoch: 3 train_loss: 1.266 test_accuracy: 0.475\n",
      "train loss: 100%[**************************************************->]1.141\n",
      "epoch: 4 train_loss: 1.184 test_accuracy: 0.475\n",
      "train loss: 100%[**************************************************->]1.392\n",
      "epoch: 5 train_loss: 1.121 test_accuracy: 0.426\n",
      "train loss: 100%[**************************************************->]1.094\n",
      "epoch: 6 train_loss: 1.103 test_accuracy: 0.574\n",
      "train loss: 100%[**************************************************->]0.658\n",
      "epoch: 7 train_loss: 1.086 test_accuracy: 0.544\n",
      "train loss: 100%[**************************************************->]1.346\n",
      "epoch: 8 train_loss: 1.056 test_accuracy: 0.569\n",
      "train loss: 100%[**************************************************->]0.997\n",
      "epoch: 9 train_loss: 1.042 test_accuracy: 0.599\n",
      "train loss: 100%[**************************************************->]0.761\n",
      "epoch: 10 train_loss: 0.967 test_accuracy: 0.618\n",
      "train loss: 100%[**************************************************->]0.655\n",
      "epoch: 11 train_loss: 0.972 test_accuracy: 0.659\n",
      "train loss: 100%[**************************************************->]0.474\n",
      "epoch: 12 train_loss: 0.908 test_accuracy: 0.687\n",
      "train loss: 100%[**************************************************->]0.519\n",
      "epoch: 13 train_loss: 0.893 test_accuracy: 0.701\n",
      "train loss: 100%[**************************************************->]0.373\n",
      "epoch: 14 train_loss: 0.858 test_accuracy: 0.709\n",
      "train loss: 100%[**************************************************->]0.774\n",
      "epoch: 15 train_loss: 0.865 test_accuracy: 0.731\n",
      "train loss: 100%[**************************************************->]0.645\n",
      "epoch: 16 train_loss: 0.85 test_accuracy: 0.717\n",
      "train loss: 100%[**************************************************->]0.741\n",
      "epoch: 17 train_loss: 0.803 test_accuracy: 0.728\n",
      "train loss: 100%[**************************************************->]0.889\n",
      "epoch: 18 train_loss: 0.808 test_accuracy: 0.758\n",
      "train loss: 100%[**************************************************->]0.665\n",
      "epoch: 19 train_loss: 0.824 test_accuracy: 0.747\n",
      "train loss: 100%[**************************************************->]0.899\n",
      "epoch: 20 train_loss: 0.762 test_accuracy: 0.769\n",
      "train loss: 100%[**************************************************->]0.731\n",
      "epoch: 21 train_loss: 0.798 test_accuracy: 0.72\n",
      "train loss: 100%[**************************************************->]0.898\n",
      "epoch: 22 train_loss: 0.722 test_accuracy: 0.755\n",
      "train loss: 100%[**************************************************->]0.834\n",
      "epoch: 23 train_loss: 0.749 test_accuracy: 0.777\n",
      "train loss: 100%[**************************************************->]0.387\n",
      "epoch: 24 train_loss: 0.71 test_accuracy: 0.766\n",
      "train loss: 100%[**************************************************->]0.258\n",
      "epoch: 25 train_loss: 0.697 test_accuracy: 0.725\n",
      "train loss: 100%[**************************************************->]1.148\n",
      "epoch: 26 train_loss: 0.703 test_accuracy: 0.747\n",
      "train loss: 100%[**************************************************->]0.316\n",
      "epoch: 27 train_loss: 0.694 test_accuracy: 0.772\n",
      "train loss: 100%[**************************************************->]0.927\n",
      "epoch: 28 train_loss: 0.663 test_accuracy: 0.786\n",
      "train loss: 100%[**************************************************->]0.759\n",
      "epoch: 29 train_loss: 0.673 test_accuracy: 0.816\n",
      "train loss: 100%[**************************************************->]0.622\n",
      "epoch: 30 train_loss: 0.647 test_accuracy: 0.764\n",
      "Finished Training\n"
     ]
    }
   ],
   "source": [
    "for epoch in range(30):\n",
    "    # train\n",
    "    net.train()\n",
    "    running_loss = 0.0\n",
    "    for step, data in enumerate(train_loader, start=0):\n",
    "        images, labels = data\n",
    "        optimizer.zero_grad()\n",
    "        outputs = net(images.to(device))\n",
    "        loss = loss_function(outputs, labels.to(device))\n",
    "        loss.backward()\n",
    "        optimizer.step()\n",
    "\n",
    "        # print statistics\n",
    "        running_loss += loss.item()\n",
    "        # print train process\n",
    "        rate = (step + 1) / len(train_loader)\n",
    "        a = \"*\" * int(rate * 50)\n",
    "        b = \".\" * int((1 - rate) * 50)\n",
    "        print(\"\\rtrain loss: {:^3.0f}%[{}->{}]{:.3f}\".format(int(rate * 100), a, b, loss), end=\"\")\n",
    "    print()\n",
    "\n",
    "    # validate\n",
    "    net.eval()\n",
    "    acc = 0.0  # accumulate accurate number / epoch\n",
    "    with torch.no_grad():\n",
    "        for data_test in validate_loader:\n",
    "            test_images, test_labels = data_test\n",
    "            optimizer.zero_grad()\n",
    "            outputs = net(test_images.to(device))\n",
    "            predict_y = torch.max(outputs, dim=1)[1]\n",
    "            acc += (predict_y == test_labels.to(device)).sum().item()\n",
    "        accurate_test = acc / val_num\n",
    "        if accurate_test > best_acc:\n",
    "            best_acc = accurate_test\n",
    "            torch.save(net.state_dict(), save_path)\n",
    "        Loss.append(running_loss)\n",
    "        Acc.append(accurate_test)\n",
    "        print('epoch:', epoch+1, 'train_loss:', round(running_loss / step, 3), 'test_accuracy:', round(accurate_test, 3))\n",
    "\n",
    "print('Finished Training')"
   ]
  },
  {
   "cell_type": "code",
   "execution_count": 25,
   "metadata": {},
   "outputs": [],
   "source": [
    "import matplotlib.pyplot as plt "
   ]
  },
  {
   "cell_type": "code",
   "execution_count": 26,
   "metadata": {},
   "outputs": [
    {
     "data": {
      "image/png": "[encoded data removed]",
      "text/plain": [
       "<Figure size 864x288 with 1 Axes>"
      ]
     },
     "metadata": {
      "needs_background": "light"
     },
     "output_type": "display_data"
    }
   ],
   "source": [
    "plt.figure(figsize=(12, 4))\n",
    "plt.plot(Loss)\n",
    "plt.xlabel('Iteration')\n",
    "plt.ylabel('loss')\n",
    "plt.title('Cross Entropy Loss');"
   ]
  },
  {
   "cell_type": "code",
   "execution_count": 27,
   "metadata": {},
   "outputs": [
    {
     "data": {
      "image/png": "[encoded data removed]",
      "text/plain": [
       "<Figure size 864x288 with 1 Axes>"
      ]
     },
     "metadata": {
      "needs_background": "light"
     },
     "output_type": "display_data"
    }
   ],
   "source": [
    "plt.figure(figsize=(12, 4))\n",
    "plt.plot(Acc)\n",
    "plt.xlabel('Iteration')\n",
    "plt.ylabel('test_accuracy')\n",
    "plt.title('Accuracy');\n",
    "\n"
   ]
  },
  {
   "cell_type": "code",
   "execution_count": null,
   "metadata": {},
   "outputs": [],
   "source": [
    " "
   ]
  }
 ],
 "metadata": {
  "kernelspec": {
   "display_name": "Python 3",
   "language": "python",
   "name": "python3"
  },
  "language_info": {
   "codemirror_mode": {
    "name": "ipython",
    "version": 3
   },
   "file_extension": ".py",
   "mimetype": "text/x-python",
   "name": "python",
   "nbconvert_exporter": "python",
   "pygments_lexer": "ipython3",
   "version": "3.6.12"
  },
  "pycharm": {
   "stem_cell": {
    "cell_type": "raw",
    "metadata": {
     "collapsed": false
    },
    "source": []
   }
  }
 },
 "nbformat": 4,
 "nbformat_minor": 4
}
