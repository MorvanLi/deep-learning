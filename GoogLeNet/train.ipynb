{
 "cells": [
  {
   "cell_type": "code",
   "execution_count": 1,
   "metadata": {},
   "outputs": [
    {
     "name": "stdout",
     "output_type": "stream",
     "text": [
      "cuda:0\n"
     ]
    }
   ],
   "source": [
    "import torch\n",
    "import torch.nn as nn\n",
    "from torchvision import transforms, datasets\n",
    "import torchvision\n",
    "import json\n",
    "import matplotlib.pyplot as plt\n",
    "import os\n",
    "import torch.optim as optim\n",
    "from model import GoogLeNet\n",
    "\n",
    "device = torch.device(\"cuda:0\" if torch.cuda.is_available() else \"cpu\")\n",
    "print(device)"
   ]
  },
  {
   "cell_type": "code",
   "execution_count": 5,
   "metadata": {},
   "outputs": [],
   "source": [
    "data_transform = {\n",
    "    \"train\": transforms.Compose([transforms.RandomResizedCrop(224),\n",
    "                                 transforms.RandomHorizontalFlip(),\n",
    "                                 transforms.ToTensor(),\n",
    "                                 transforms.Normalize((0.5, 0.5, 0.5), (0.5, 0.5, 0.5))]),\n",
    "    \"val\": transforms.Compose([transforms.Resize((224, 224)),\n",
    "                               transforms.ToTensor(),\n",
    "                               transforms.Normalize((0.5, 0.5, 0.5), (0.5, 0.5, 0.5))])}\n",
    "\n",
    "data_root = os.path.abspath(os.path.join(os.getcwd(), \"../\"))  # get data root path\n",
    "image_path = data_root + \"/flower_data/\"  # flower data set path\n",
    "\n",
    "train_dataset = datasets.ImageFolder(root=image_path + \"train\",\n",
    "                                     transform=data_transform[\"train\"])\n",
    "train_num = len(train_dataset)\n",
    "\n",
    "# {'daisy':0, 'dandelion':1, 'roses':2, 'sunflower':3, 'tulips':4}\n",
    "flower_list = train_dataset.class_to_idx\n",
    "cla_dict = dict((val, key) for key, val in flower_list.items())\n",
    "# write dict into json file\n",
    "json_str = json.dumps(cla_dict, indent=4)\n",
    "with open('class_indices.json', 'w') as json_file:\n",
    "    json_file.write(json_str)\n",
    "\n",
    "batch_size = 32\n",
    "train_loader = torch.utils.data.DataLoader(train_dataset,\n",
    "                                           batch_size=batch_size, shuffle=True,\n",
    "                                           num_workers=0)\n",
    "\n",
    "validate_dataset = datasets.ImageFolder(root=image_path + \"val\",\n",
    "                                        transform=data_transform[\"val\"])\n",
    "val_num = len(validate_dataset)\n",
    "validate_loader = torch.utils.data.DataLoader(validate_dataset,\n",
    "                                              batch_size=batch_size, shuffle=False,\n",
    "                                              num_workers=0)\n",
    "\n",
    "# test_data_iter = iter(validate_loader)\n",
    "# test_image, test_label = test_data_iter.next()\n",
    "\n",
    "# net = torchvision.models.googlenet(num_classes=5)\n",
    "# model_dict = net.state_dict()\n",
    "# pretrain_model = torch.load(\"googlenet.pth\")\n",
    "# del_list = [\"aux1.fc2.weight\", \"aux1.fc2.bias\",\n",
    "#             \"aux2.fc2.weight\", \"aux2.fc2.bias\",\n",
    "#             \"fc.weight\", \"fc.bias\"]\n",
    "# pretrain_dict = {k: v for k, v in pretrain_model.items() if k not in del_list}\n",
    "# model_dict.update(pretrain_dict)\n",
    "# net.load_state_dict(model_dict)"
   ]
  },
  {
   "cell_type": "code",
   "execution_count": 6,
   "metadata": {},
   "outputs": [
    {
     "name": "stdout",
     "output_type": "stream",
     "text": [
      "train loss: 100%[**************************************************->]2.308\n",
      "epoch: 1 train_loss: 2.898 test_accuracy 0.53\n",
      "train loss: 100%[**************************************************->]0.897\n",
      "epoch: 2 train_loss: 1.779 test_accuracy 0.541\n",
      "train loss: 100%[**************************************************->]1.130\n",
      "epoch: 3 train_loss: 1.686 test_accuracy 0.646\n",
      "train loss: 100%[**************************************************->]0.511\n",
      "epoch: 4 train_loss: 1.53 test_accuracy 0.637\n",
      "train loss: 100%[**************************************************->]1.518\n",
      "epoch: 5 train_loss: 1.45 test_accuracy 0.681\n",
      "train loss: 100%[**************************************************->]1.846\n",
      "epoch: 6 train_loss: 1.369 test_accuracy 0.673\n",
      "train loss: 100%[**************************************************->]1.214\n",
      "epoch: 7 train_loss: 1.372 test_accuracy 0.676\n",
      "train loss: 100%[**************************************************->]1.752\n",
      "epoch: 8 train_loss: 1.308 test_accuracy 0.687\n",
      "train loss: 100%[**************************************************->]0.511\n",
      "epoch: 9 train_loss: 1.252 test_accuracy 0.739\n",
      "train loss: 100%[**************************************************->]1.813\n",
      "epoch: 10 train_loss: 1.209 test_accuracy 0.725\n",
      "train loss: 100%[**************************************************->]0.907\n",
      "epoch: 11 train_loss: 1.241 test_accuracy 0.753\n",
      "train loss: 100%[**************************************************->]1.093\n",
      "epoch: 12 train_loss: 1.129 test_accuracy 0.745\n",
      "train loss: 100%[**************************************************->]1.759\n",
      "epoch: 13 train_loss: 1.137 test_accuracy 0.665\n",
      "train loss: 100%[**************************************************->]0.977\n",
      "epoch: 14 train_loss: 1.144 test_accuracy 0.703\n",
      "train loss: 100%[**************************************************->]1.192\n",
      "epoch: 15 train_loss: 1.106 test_accuracy 0.78\n",
      "train loss: 100%[**************************************************->]0.435\n",
      "epoch: 16 train_loss: 1.067 test_accuracy 0.659\n",
      "train loss: 100%[**************************************************->]1.058\n",
      "epoch: 17 train_loss: 1.046 test_accuracy 0.725\n",
      "train loss: 100%[**************************************************->]1.393\n",
      "epoch: 18 train_loss: 1.024 test_accuracy 0.766\n",
      "train loss: 100%[**************************************************->]1.258\n",
      "epoch: 19 train_loss: 1.006 test_accuracy 0.761\n",
      "train loss: 100%[**************************************************->]0.416\n",
      "epoch: 20 train_loss: 0.955 test_accuracy 0.799\n",
      "train loss: 100%[**************************************************->]1.180\n",
      "epoch: 21 train_loss: 0.979 test_accuracy 0.813\n",
      "train loss: 100%[**************************************************->]0.783\n",
      "epoch: 22 train_loss: 0.979 test_accuracy 0.764\n",
      "train loss: 100%[**************************************************->]0.340\n",
      "epoch: 23 train_loss: 0.936 test_accuracy 0.819\n",
      "train loss: 100%[**************************************************->]0.554\n",
      "epoch: 24 train_loss: 0.914 test_accuracy 0.786\n",
      "train loss: 100%[**************************************************->]0.894\n",
      "epoch: 25 train_loss: 0.91 test_accuracy 0.758\n",
      "train loss: 100%[**************************************************->]0.541\n",
      "epoch: 26 train_loss: 0.893 test_accuracy 0.819\n",
      "train loss: 100%[**************************************************->]0.404\n",
      "epoch: 27 train_loss: 0.851 test_accuracy 0.808\n",
      "train loss: 100%[**************************************************->]0.672\n",
      "epoch: 28 train_loss: 0.849 test_accuracy 0.775\n",
      "train loss: 100%[**************************************************->]0.913\n",
      "epoch: 29 train_loss: 0.856 test_accuracy 0.813\n",
      "train loss: 100%[**************************************************->]0.745\n",
      "epoch: 30 train_loss: 0.789 test_accuracy 0.81\n",
      "Finished Training\n"
     ]
    }
   ],
   "source": [
    "net = GoogLeNet(num_classes=5, aux_logits=True, init_weights=True)\n",
    "net.to(device)\n",
    "loss_function = nn.CrossEntropyLoss()\n",
    "optimizer = optim.Adam(net.parameters(), lr=0.0003)\n",
    "Loss = []\n",
    "Acc = []\n",
    "best_acc = 0.0\n",
    "save_path = './googleNet.pth'\n",
    "for epoch in range(30):\n",
    "    # train\n",
    "    net.train()\n",
    "    running_loss = 0.0\n",
    "    for step, data in enumerate(train_loader, start=0):\n",
    "        images, labels = data\n",
    "        optimizer.zero_grad()\n",
    "        logits, aux_logits2, aux_logits1 = net(images.to(device))\n",
    "        loss0 = loss_function(logits, labels.to(device))\n",
    "        loss1 = loss_function(aux_logits1, labels.to(device))\n",
    "        loss2 = loss_function(aux_logits2, labels.to(device))\n",
    "        loss = loss0 + loss1 * 0.3 + loss2 * 0.3\n",
    "        loss.backward()\n",
    "        optimizer.step()\n",
    "\n",
    "        # print statistics\n",
    "        running_loss += loss.item()\n",
    "        # print train process\n",
    "        rate = (step + 1) / len(train_loader)\n",
    "        a = \"*\" * int(rate * 50)\n",
    "        b = \".\" * int((1 - rate) * 50)\n",
    "        print(\"\\rtrain loss: {:^3.0f}%[{}->{}]{:.3f}\".format(int(rate * 100), a, b, loss), end=\"\")\n",
    "    print()\n",
    "\n",
    "    # validate\n",
    "    net.eval()\n",
    "    acc = 0.0  # accumulate accurate number / epoch\n",
    "    with torch.no_grad():\n",
    "        for val_data in validate_loader:\n",
    "            val_images, val_labels = val_data\n",
    "            outputs = net(val_images.to(device))  # eval model only have last output layer\n",
    "            predict_y = torch.max(outputs, dim=1)[1]\n",
    "            acc += (predict_y == val_labels.to(device)).sum().item()\n",
    "        val_accurate = acc / val_num\n",
    "        if val_accurate > best_acc:\n",
    "            best_acc = val_accurate\n",
    "            torch.save(net.state_dict(), save_path)\n",
    "        Loss.append(round(running_loss / step, 3))\n",
    "        Acc.append(round(val_accurate, 3))\n",
    "        print(\"epoch:\", epoch+1, \"train_loss:\", round(running_loss / step, 3), \"test_accuracy\", round(val_accurate, 3))\n",
    "#         print('[epoch %d] train_loss: %.3f  test_accuracy: %.3f' %\n",
    "#               (epoch + 1, running_loss / step, val_accurate))\n",
    "\n",
    "print('Finished Training')"
   ]
  },
  {
   "cell_type": "code",
   "execution_count": 7,
   "metadata": {},
   "outputs": [],
   "source": [
    "import matplotlib.pyplot as plt\n"
   ]
  },
  {
   "cell_type": "code",
   "execution_count": 10,
   "metadata": {},
   "outputs": [
    {
     "data": {
      "text/plain": [
       "[<matplotlib.lines.Line2D at 0x7fe50c3bc470>]"
      ]
     },
     "execution_count": 10,
     "metadata": {},
     "output_type": "execute_result"
    },
    {
     "data": {
      "image/png": "[encoded data removed]",
      "text/plain": [
       "<Figure size 432x288 with 1 Axes>"
      ]
     },
     "metadata": {
      "needs_background": "light"
     },
     "output_type": "display_data"
    }
   ],
   "source": [
    "plt.plot(Loss)"
   ]
  },
  {
   "cell_type": "code",
   "execution_count": 11,
   "metadata": {},
   "outputs": [
    {
     "data": {
      "text/plain": [
       "[<matplotlib.lines.Line2D at 0x7fe50c350550>]"
      ]
     },
     "execution_count": 11,
     "metadata": {},
     "output_type": "execute_result"
    },
    {
     "data": {
      "image/png": "[encoded data removed]",
      "text/plain": [
       "<Figure size 432x288 with 1 Axes>"
      ]
     },
     "metadata": {
      "needs_background": "light"
     },
     "output_type": "display_data"
    }
   ],
   "source": [
    "plt.plot(Acc)"
   ]
  },
  {
   "cell_type": "code",
   "execution_count": null,
   "metadata": {},
   "outputs": [],
   "source": []
  }
 ],
 "metadata": {
  "kernelspec": {
   "display_name": "Python [conda env:morvanli] *",
   "language": "python",
   "name": "conda-env-morvanli-py"
  },
  "language_info": {
   "codemirror_mode": {
    "name": "ipython",
    "version": 3
   },
   "file_extension": ".py",
   "mimetype": "text/x-python",
   "name": "python",
   "nbconvert_exporter": "python",
   "pygments_lexer": "ipython3",
   "version": "3.6.12"
  }
 },
 "nbformat": 4,
 "nbformat_minor": 4
}
