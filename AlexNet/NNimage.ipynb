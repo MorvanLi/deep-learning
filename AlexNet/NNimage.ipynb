{
 "cells": [
  {
   "cell_type": "code",
   "execution_count": 1,
   "metadata": {},
   "outputs": [],
   "source": [
    "import os\n",
    "import scipy.io as scio\n",
    "import numpy as np\n",
    "from matplotlib import pyplot as plt\n"
   ]
  },
  {
   "cell_type": "code",
   "execution_count": 3,
   "metadata": {},
   "outputs": [
    {
     "data": {
      "text/plain": [
       "(<matplotlib.axes._subplots.AxesSubplot at 0x20df44a9448>,\n",
       " [<matplotlib.lines.Line2D at 0x20df6c14488>],\n",
       " Text(0.5, 1.0, 'Qabf'))"
      ]
     },
     "execution_count": 3,
     "metadata": {},
     "output_type": "execute_result"
    },
    {
     "data": {
      "image/png": "[encoded data removed]",
      "text/plain": [
       "<Figure size 864x576 with 1 Axes>"
      ]
     },
     "metadata": {
      "needs_background": "light"
     },
     "output_type": "display_data"
    }
   ],
   "source": [
    "our = [0.5251, 14.0577, 0.9071, 0.9101, 7.0138]\n",
    "plt.figure(figsize=[12,8])\n",
    "plt.subplot(2,3,1), plt.semilogy(our), plt.title('Qabf')\n",
    "# plt.subplot(2,3,2), plt.semilogy(ssim_train), plt.title('ssim train')\n",
    "# plt.subplot(2,3,3), plt.semilogy(loss_train), plt.title('loss train')\n",
    "# plt.subplot(2,3,4), plt.semilogy(mse_val), plt.title('mse val')\n",
    "# plt.subplot(2,3,5), plt.semilogy(ssim_val), plt.title('ssim val')\n",
    "# plt.subplot(2,3,6), plt.semilogy(loss_val), plt.title('loss val')\n",
    "            \n",
    "# plt.savefig(os.path.join(train_path,'curve.png'),dpi=90)"
   ]
  },
  {
   "cell_type": "code",
   "execution_count": null,
   "metadata": {},
   "outputs": [],
   "source": []
  }
 ],
 "metadata": {
  "kernelspec": {
   "display_name": "Python [conda env:MorvanLi] *",
   "language": "python",
   "name": "conda-env-MorvanLi-py"
  },
  "language_info": {
   "codemirror_mode": {
    "name": "ipython",
    "version": 3
   },
   "file_extension": ".py",
   "mimetype": "text/x-python",
   "name": "python",
   "nbconvert_exporter": "python",
   "pygments_lexer": "ipython3",
   "version": "3.7.7"
  }
 },
 "nbformat": 4,
 "nbformat_minor": 4
}
