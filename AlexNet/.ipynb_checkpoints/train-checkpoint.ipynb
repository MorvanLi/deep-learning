{
 "cells": [
  {
   "cell_type": "code",
   "execution_count": 1,
   "metadata": {},
   "outputs": [],
   "source": [
    "import torch\n",
    "import torch.nn as nn\n",
    "from torchvision import transforms, datasets, utils\n",
    "import matplotlib.pyplot as plt\n",
    "import numpy as np\n",
    "import torch.optim as optim\n",
    "from model import AlexNet\n",
    "import os\n",
    "import json\n",
    "import time\n",
    "from tqdm import tqdm"
   ]
  },
  {
   "cell_type": "code",
   "execution_count": 2,
   "metadata": {},
   "outputs": [],
   "source": [
    "device = torch.device(\"cuda\" if torch.cuda.is_available() else \"cpu\")"
   ]
  },
  {
   "cell_type": "code",
   "execution_count": 3,
   "metadata": {},
   "outputs": [
    {
     "data": {
      "text/plain": [
       "device(type='cuda')"
      ]
     },
     "execution_count": 3,
     "metadata": {},
     "output_type": "execute_result"
    }
   ],
   "source": [
    "device"
   ]
  },
  {
   "cell_type": "code",
   "execution_count": 4,
   "metadata": {},
   "outputs": [],
   "source": [
    "# 数据预处理，定义data_transform这个字典\n",
    "data_transform = {\n",
    "    \"train\": transforms.Compose([transforms.RandomResizedCrop(224),  # 随机裁剪，裁剪到224*224\n",
    "                                 transforms.RandomHorizontalFlip(),  # 水平方向随机翻转\n",
    "                                 transforms.ToTensor(), \n",
    "                                 transforms.Normalize((0.5, 0.5, 0.5), (0.5, 0.5, 0.5))\n",
    "                                ]),\n",
    "    \"val\": transforms.Compose([transforms.Resize((224, 224)),  # cannot 224, must (224, 224)\n",
    "                               transforms.ToTensor(),\n",
    "                               transforms.Normalize((0.5, 0.5, 0.5), (0.5, 0.5, 0.5))]),\n",
    "    \n",
    "}"
   ]
  },
  {
   "cell_type": "code",
   "execution_count": 6,
   "metadata": {},
   "outputs": [],
   "source": [
    "# os.getcwd()获取当前文件所在目录， \"../..\"返回上上层目录，\"..\"返回上层目录\n",
    "data_root = os.path.abspath(os.path.join(os.getcwd(), \"..\"))  # get data root path\n"
   ]
  },
  {
   "cell_type": "code",
   "execution_count": 7,
   "metadata": {},
   "outputs": [
    {
     "data": {
      "text/plain": [
       "'D:\\\\DeepLearning\\\\163\\\\github'"
      ]
     },
     "execution_count": 7,
     "metadata": {},
     "output_type": "execute_result"
    }
   ],
   "source": [
    "data_root"
   ]
  },
  {
   "cell_type": "code",
   "execution_count": null,
   "metadata": {},
   "outputs": [],
   "source": [
    "# D:\\deeplearning\n",
    "image_path = data_root + \"/data_set/flower_data/\"\n",
    "train_dataset = datasets.ImageFolder(\n",
    "    root=image_path + \"/train\",\n",
    "    transform=data_transform[\"train\"], \n",
    ")"
   ]
  },
  {
   "cell_type": "code",
   "execution_count": 27,
   "metadata": {},
   "outputs": [],
   "source": [
    "trian_num = len(train_dataset) # trian_num: 3306"
   ]
  },
  {
   "cell_type": "code",
   "execution_count": 28,
   "metadata": {},
   "outputs": [],
   "source": [
    "flower_list = train_dataset.class_to_idx   \n",
    "# 获取分类的名称所对应的索引，即{'daisy':0, 'dandelion':1, 'roses':2, 'sunflower':3, 'tulips':4}"
   ]
  },
  {
   "cell_type": "code",
   "execution_count": 29,
   "metadata": {},
   "outputs": [],
   "source": [
    "cla_dict = dict((val, key) for key, val in flower_list.items())"
   ]
  },
  {
   "cell_type": "code",
   "execution_count": 30,
   "metadata": {},
   "outputs": [],
   "source": [
    "# 将key和value反过来的目的是，预测之后返回的索引可以直接通过字典得到所属类别\n",
    "# write dict into json file\n",
    "json_str = json.dumps(cla_dict, indent=4)\n",
    "with open('class_indices.json', 'w') as json_file:  # 保存入json文件\n",
    "    json_file.write(json_str)"
   ]
  },
  {
   "cell_type": "code",
   "execution_count": 31,
   "metadata": {},
   "outputs": [],
   "source": [
    "batch_size = 32\n",
    "train_loader = torch.utils.data.DataLoader(\n",
    "    train_dataset,\n",
    "    batch_size=batch_size,\n",
    "    shuffle=True,\n",
    "    num_workers=0 \n",
    ")\n",
    "\n",
    "validate_dataset = datasets.ImageFolder(\n",
    "    root=image_path + \"/val\",\n",
    "    transform=data_transform[\"val\"], \n",
    ")\n",
    "validate_loader = torch.utils.data.DataLoader(\n",
    "    validate_dataset,\n",
    "    batch_size=batch_size,\n",
    "    shuffle=False,\n",
    "    num_workers=0 \n",
    "    \n",
    ")\n",
    "\n"
   ]
  },
  {
   "cell_type": "code",
   "execution_count": 32,
   "metadata": {},
   "outputs": [
    {
     "name": "stdout",
     "output_type": "stream",
     "text": [
      "12\n",
      "104\n"
     ]
    }
   ],
   "source": [
    "print(len(validate_loader))\n",
    "print(len(train_loader))"
   ]
  },
  {
   "cell_type": "code",
   "execution_count": 33,
   "metadata": {},
   "outputs": [],
   "source": [
    "net = AlexNet(num_classes=5).to(device)\n"
   ]
  },
  {
   "cell_type": "code",
   "execution_count": 47,
   "metadata": {},
   "outputs": [
    {
     "name": "stdout",
     "output_type": "stream",
     "text": [
      "train loss: 100%[**************************************************->]1.008\n",
      "22.864106200000606\n",
      "[epoch 1] train_loss: 0.567  test_accuracy: 0.761\n",
      "train loss: 100%[**************************************************->]0.828\n",
      "24.46215569999913\n",
      "[epoch 2] train_loss: 0.560  test_accuracy: 0.780\n",
      "train loss: 100%[**************************************************->]0.628\n",
      "24.316859399999885\n",
      "[epoch 3] train_loss: 0.548  test_accuracy: 0.783\n",
      "train loss: 100%[**************************************************->]0.509\n",
      "24.431898200000433\n",
      "[epoch 4] train_loss: 0.549  test_accuracy: 0.797\n",
      "train loss: 100%[**************************************************->]0.916\n",
      "24.43747699999949\n",
      "[epoch 5] train_loss: 0.513  test_accuracy: 0.794\n",
      "train loss: 100%[**************************************************->]0.321\n",
      "24.81309119999969\n",
      "[epoch 6] train_loss: 0.500  test_accuracy: 0.777\n",
      "train loss: 100%[**************************************************->]0.531\n",
      "24.570180699999582\n",
      "[epoch 7] train_loss: 0.497  test_accuracy: 0.753\n",
      "train loss: 100%[**************************************************->]0.627\n",
      "25.649125699999786\n",
      "[epoch 8] train_loss: 0.507  test_accuracy: 0.786\n",
      "train loss: 100%[**************************************************->]0.081\n",
      "24.524375500000133\n",
      "[epoch 9] train_loss: 0.454  test_accuracy: 0.777\n",
      "train loss: 100%[**************************************************->]0.253\n",
      "24.5282244\n",
      "[epoch 10] train_loss: 0.472  test_accuracy: 0.802\n",
      "Finished Training\n"
     ]
    }
   ],
   "source": [
    "loss_function = nn.CrossEntropyLoss()\n",
    "optimizer = optim.Adam(net.parameters(), lr=0.0002)\n",
    "best_acc = 0.0\n",
    "Loss = []\n",
    "Acc = []\n",
    "for epoch in range(10):\n",
    "    # train\n",
    "    net.train() # 在训练过程中调用dropout方法\n",
    "    running_loss = 0.0\n",
    "    t1 = time.perf_counter()  # 统计训练一个epoch所需时间\n",
    "    for step, data in enumerate(train_loader, start=0):\n",
    "        images, labels = data  \n",
    "        optimizer.zero_grad()\n",
    "        outputs = net(images.to(device))\n",
    "        loss = loss_function(outputs, labels.to(device))\n",
    "        loss.backward()\n",
    "        optimizer.step()\n",
    "        running_loss += loss.item()\n",
    "        rate = (step + 1) / len(train_loader)\n",
    "        a = \"*\" * int(rate * 50)\n",
    "        b = \".\" * int((1 - rate) * 50)\n",
    "        print(\"\\rtrain loss: {:^3.0f}%[{}->{}]{:.3f}\".format(int(rate * 100), a, b, loss), end=\"\")\n",
    "    print()\n",
    "    print(time.perf_counter()-t1)\n",
    "    \n",
    "    # validate\n",
    "    save_path = \"./AlexNet.pth\"\n",
    "    net.eval() # 在测试过程中关掉dropout方法，不希望在测试过程中使用dropout\n",
    "    acc = 0.0  # accumulate accurate number / epoch\n",
    "    with torch.no_grad():\n",
    "        for _, data_test in enumerate(validate_loader):\n",
    "            test_images, test_labels = data_test\n",
    "            outputs = net(test_images.to(device))\n",
    "            predict_y = torch.max(outputs, dim=1)[1]\n",
    "            acc += (predict_y == test_labels.to(device)).sum().item()\n",
    "        accurate_test = acc / len(validate_dataset)\n",
    "        if accurate_test > best_acc:\n",
    "            best_acc = accurate_test\n",
    "            torch.save(net.state_dict(), save_path)\n",
    "        print('[epoch %d] train_loss: %.3f  test_accuracy: %.3f' %\n",
    "              (epoch + 1, running_loss / step, acc / len(validate_dataset)))\n",
    "        Loss.append(running_loss / step)\n",
    "        Acc.append(acc / len(validate_dataset))\n",
    "print('Finished Training')\n",
    "    \n",
    "    "
   ]
  },
  {
   "cell_type": "code",
   "execution_count": 48,
   "metadata": {},
   "outputs": [
    {
     "data": {
      "image/png": "[encoded data removed]",
      "text/plain": [
       "<Figure size 864x288 with 1 Axes>"
      ]
     },
     "metadata": {
      "needs_background": "light"
     },
     "output_type": "display_data"
    }
   ],
   "source": [
    "plt.figure(figsize=(12, 4))\n",
    "plt.plot(Loss)\n",
    "plt.xlabel('Iteration')\n",
    "plt.ylabel('loss')\n",
    "plt.title('Cross Entropy Loss');\n"
   ]
  },
  {
   "cell_type": "code",
   "execution_count": 49,
   "metadata": {},
   "outputs": [
    {
     "data": {
      "image/png": "[encoded data removed]",
      "text/plain": [
       "<Figure size 864x288 with 1 Axes>"
      ]
     },
     "metadata": {
      "needs_background": "light"
     },
     "output_type": "display_data"
    }
   ],
   "source": [
    "plt.figure(figsize=(12, 4))\n",
    "plt.plot(Acc)\n",
    "plt.xlabel('Iteration')\n",
    "plt.ylabel('test_accuracy')\n",
    "plt.title('Accuracy');\n"
   ]
  },
  {
   "cell_type": "code",
   "execution_count": 54,
   "metadata": {},
   "outputs": [],
   "source": [
    "from math import exp\n",
    "window_size = 11\n",
    "sigma = 1.5\n",
    "def gaussian(window_size, sigma):\n",
    "    gauss = torch.Tensor([exp(-(x - window_size//2)**2/float(2*sigma**2)) for x in range(window_size)])\n",
    "    return gauss/gauss.sum()\n"
   ]
  },
  {
   "cell_type": "code",
   "execution_count": 55,
   "metadata": {},
   "outputs": [],
   "source": [
    "_1D_window = gaussian(window_size, 1.5).unsqueeze(1)"
   ]
  },
  {
   "cell_type": "code",
   "execution_count": 63,
   "metadata": {},
   "outputs": [
    {
     "data": {
      "text/plain": [
       "torch.Size([11, 1])"
      ]
     },
     "execution_count": 63,
     "metadata": {},
     "output_type": "execute_result"
    }
   ],
   "source": [
    "_1D_window.shape"
   ]
  },
  {
   "cell_type": "code",
   "execution_count": 57,
   "metadata": {},
   "outputs": [
    {
     "data": {
      "text/plain": [
       "tensor([0.0010, 0.0076, 0.0360, 0.1094, 0.2130, 0.2660, 0.2130, 0.1094, 0.0360,\n",
       "        0.0076, 0.0010])"
      ]
     },
     "execution_count": 57,
     "metadata": {},
     "output_type": "execute_result"
    }
   ],
   "source": [
    "gaussian(window_size, 1.5)"
   ]
  },
  {
   "cell_type": "code",
   "execution_count": 60,
   "metadata": {},
   "outputs": [],
   "source": [
    "_2D_window = _1D_window.mm(_1D_window.t()).float().unsqueeze(0).unsqueeze(0)"
   ]
  },
  {
   "cell_type": "code",
   "execution_count": 61,
   "metadata": {},
   "outputs": [
    {
     "data": {
      "text/plain": [
       "torch.Size([1, 1, 11, 11])"
      ]
     },
     "execution_count": 61,
     "metadata": {},
     "output_type": "execute_result"
    }
   ],
   "source": [
    "_2D_window.shape"
   ]
  },
  {
   "cell_type": "code",
   "execution_count": 64,
   "metadata": {},
   "outputs": [],
   "source": [
    "from torch.autograd import Variable"
   ]
  },
  {
   "cell_type": "code",
   "execution_count": 68,
   "metadata": {},
   "outputs": [],
   "source": [
    "window = Variable(_2D_window.expand(10, 1, window_size, window_size).contiguous())"
   ]
  },
  {
   "cell_type": "code",
   "execution_count": 69,
   "metadata": {},
   "outputs": [
    {
     "data": {
      "text/plain": [
       "torch.Size([10, 1, 11, 11])"
      ]
     },
     "execution_count": 69,
     "metadata": {},
     "output_type": "execute_result"
    }
   ],
   "source": [
    "window.shape"
   ]
  },
  {
   "cell_type": "code",
   "execution_count": null,
   "metadata": {},
   "outputs": [],
   "source": []
  }
 ],
 "metadata": {
  "kernelspec": {
   "display_name": "Python [conda env:morvanli] *",
   "language": "python",
   "name": "conda-env-morvanli-py"
  },
  "language_info": {
   "codemirror_mode": {
    "name": "ipython",
    "version": 3
   },
   "file_extension": ".py",
   "mimetype": "text/x-python",
   "name": "python",
   "nbconvert_exporter": "python",
   "pygments_lexer": "ipython3",
   "version": "3.6.12"
  }
 },
 "nbformat": 4,
 "nbformat_minor": 4
}
